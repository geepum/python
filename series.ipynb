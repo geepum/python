{
  "nbformat": 4,
  "nbformat_minor": 0,
  "metadata": {
    "colab": {
      "name": "series.ipynb",
      "provenance": [],
      "authorship_tag": "ABX9TyMvsnTMBemalHevK+lRJhCn",
      "include_colab_link": true
    },
    "kernelspec": {
      "name": "python3",
      "display_name": "Python 3"
    },
    "language_info": {
      "name": "python"
    }
  },
  "cells": [
    {
      "cell_type": "markdown",
      "metadata": {
        "id": "view-in-github",
        "colab_type": "text"
      },
      "source": [
        "<a href=\"https://colab.research.google.com/github/geepum/python/blob/main/series.ipynb\" target=\"_parent\"><img src=\"https://colab.research.google.com/assets/colab-badge.svg\" alt=\"Open In Colab\"/></a>"
      ]
    },
    {
      "cell_type": "code",
      "source": [
        "import pandas as pd"
      ],
      "metadata": {
        "id": "9HP5ohhTEjUm"
      },
      "execution_count": 2,
      "outputs": []
    },
    {
      "cell_type": "code",
      "source": [
        "capitals = {'Czech Republic': 'Prague', \n",
        "            'Russia': 'Moscow', \n",
        "            'Australia': 'Canberra'}"
      ],
      "metadata": {
        "id": "qAmBHLmWIfoW"
      },
      "execution_count": 3,
      "outputs": []
    },
    {
      "cell_type": "code",
      "source": [
        "print(pd.Series(capitals, name='Capitals of the world'))"
      ],
      "metadata": {
        "colab": {
          "base_uri": "https://localhost:8080/"
        },
        "id": "yvT16FCaIgs4",
        "outputId": "a93d2b44-a388-48f1-d72b-a9bae0d0c079"
      },
      "execution_count": 4,
      "outputs": [
        {
          "output_type": "stream",
          "name": "stdout",
          "text": [
            "Czech Republic      Prague\n",
            "Russia              Moscow\n",
            "Australia         Canberra\n",
            "Name: Capitals of the world, dtype: object\n"
          ]
        }
      ]
    },
    {
      "cell_type": "code",
      "source": [
        "ages_list = [21, 20, 25, 22]\n",
        "names_list = ['Anna', 'Bob', 'Maria', 'Jack']\n",
        "\n",
        "ages_series = pd.Series(ages_list, index=names_list, name='Age')\n",
        "print(ages_series)"
      ],
      "metadata": {
        "colab": {
          "base_uri": "https://localhost:8080/"
        },
        "id": "f1P_3YNoIk55",
        "outputId": "0b7ce377-aaf9-41eb-bc7b-9a92a45e3332"
      },
      "execution_count": 5,
      "outputs": [
        {
          "output_type": "stream",
          "name": "stdout",
          "text": [
            "Anna     21\n",
            "Bob      20\n",
            "Maria    25\n",
            "Jack     22\n",
            "Name: Age, dtype: int64\n"
          ]
        }
      ]
    },
    {
      "cell_type": "code",
      "source": [
        ""
      ],
      "metadata": {
        "id": "q4RhwhJ6oO8S"
      },
      "execution_count": null,
      "outputs": []
    }
  ]
}