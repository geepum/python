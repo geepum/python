{
  "nbformat": 4,
  "nbformat_minor": 0,
  "metadata": {
    "colab": {
      "name": "series.ipynb",
      "provenance": [],
      "authorship_tag": "ABX9TyMJe4A83vdsRmaFJPK8YfSE",
      "include_colab_link": true
    },
    "kernelspec": {
      "name": "python3",
      "display_name": "Python 3"
    },
    "language_info": {
      "name": "python"
    }
  },
  "cells": [
    {
      "cell_type": "markdown",
      "metadata": {
        "id": "view-in-github",
        "colab_type": "text"
      },
      "source": [
        "<a href=\"https://colab.research.google.com/github/geepum/python/blob/main/series.ipynb\" target=\"_parent\"><img src=\"https://colab.research.google.com/assets/colab-badge.svg\" alt=\"Open In Colab\"/></a>"
      ]
    },
    {
      "cell_type": "markdown",
      "source": [
        "# Series"
      ],
      "metadata": {
        "id": "ZlS6dkDWu0WG"
      }
    },
    {
      "cell_type": "code",
      "source": [
        "import pandas as pd"
      ],
      "metadata": {
        "id": "9HP5ohhTEjUm"
      },
      "execution_count": 2,
      "outputs": []
    },
    {
      "cell_type": "code",
      "source": [
        "capitals = {'Czech Republic': 'Prague', \n",
        "            'Russia': 'Moscow', \n",
        "            'Australia': 'Canberra'}"
      ],
      "metadata": {
        "id": "qAmBHLmWIfoW"
      },
      "execution_count": 3,
      "outputs": []
    },
    {
      "cell_type": "code",
      "source": [
        "print(pd.Series(capitals, name='Capitals of the world'))"
      ],
      "metadata": {
        "colab": {
          "base_uri": "https://localhost:8080/"
        },
        "id": "yvT16FCaIgs4",
        "outputId": "a93d2b44-a388-48f1-d72b-a9bae0d0c079"
      },
      "execution_count": 4,
      "outputs": [
        {
          "output_type": "stream",
          "name": "stdout",
          "text": [
            "Czech Republic      Prague\n",
            "Russia              Moscow\n",
            "Australia         Canberra\n",
            "Name: Capitals of the world, dtype: object\n"
          ]
        }
      ]
    },
    {
      "cell_type": "code",
      "source": [
        "# give a name and put names as index\n",
        "ages_list = [21, 20, 25, 22]\n",
        "names_list = ['Anna', 'Bob', 'Maria', 'Jack']\n",
        "\n",
        "ages_series = pd.Series(ages_list, index=names_list, name='Age')\n",
        "print(ages_series)"
      ],
      "metadata": {
        "colab": {
          "base_uri": "https://localhost:8080/"
        },
        "id": "f1P_3YNoIk55",
        "outputId": "0b7ce377-aaf9-41eb-bc7b-9a92a45e3332"
      },
      "execution_count": 5,
      "outputs": [
        {
          "output_type": "stream",
          "name": "stdout",
          "text": [
            "Anna     21\n",
            "Bob      20\n",
            "Maria    25\n",
            "Jack     22\n",
            "Name: Age, dtype: int64\n"
          ]
        }
      ]
    },
    {
      "cell_type": "code",
      "source": [
        "# change index\n",
        "ages_series.index = ['A', 'B', 'M', 'J']\n",
        "print(ages_series)"
      ],
      "metadata": {
        "colab": {
          "base_uri": "https://localhost:8080/"
        },
        "id": "q4RhwhJ6oO8S",
        "outputId": "00afc698-2835-46a6-f18a-ad46f672a1f8"
      },
      "execution_count": 6,
      "outputs": [
        {
          "output_type": "stream",
          "name": "stdout",
          "text": [
            "A    21\n",
            "B    20\n",
            "M    25\n",
            "J    22\n",
            "Name: Age, dtype: int64\n"
          ]
        }
      ]
    },
    {
      "cell_type": "code",
      "source": [
        "# modify series object\n",
        "ages_series['Jack'] = 23\n",
        "print(ages_series)\n",
        "\n",
        "# Series are:\n",
        "# value-mutable\n",
        "# size-immutable"
      ],
      "metadata": {
        "colab": {
          "base_uri": "https://localhost:8080/"
        },
        "id": "Qlm-TsZPpomz",
        "outputId": "c6a5b9b4-1ae4-4cf9-c00d-c8086fc8d440"
      },
      "execution_count": 7,
      "outputs": [
        {
          "output_type": "stream",
          "name": "stdout",
          "text": [
            "A       21\n",
            "B       20\n",
            "M       25\n",
            "J       22\n",
            "Jack    23\n",
            "Name: Age, dtype: int64\n"
          ]
        }
      ]
    },
    {
      "cell_type": "code",
      "source": [
        "# modify series object by drop method\n",
        "ages_series = pd.Series(ages_list, index=names_list, name='Age')\n",
        "new_ages_series = ages_series.drop(index='Maria')\n",
        "print(new_ages_series)"
      ],
      "metadata": {
        "colab": {
          "base_uri": "https://localhost:8080/"
        },
        "id": "zZImfwhip-i7",
        "outputId": "973cbb6c-027a-4568-8cb5-a8979e426d9c"
      },
      "execution_count": 9,
      "outputs": [
        {
          "output_type": "stream",
          "name": "stdout",
          "text": [
            "Anna    21\n",
            "Bob     20\n",
            "Jack    22\n",
            "Name: Age, dtype: int64\n"
          ]
        }
      ]
    },
    {
      "cell_type": "code",
      "source": [
        "# original Series remains unchanged\n",
        "print(ages_series)"
      ],
      "metadata": {
        "colab": {
          "base_uri": "https://localhost:8080/"
        },
        "id": "VTUC0AZyquv_",
        "outputId": "dd70b1b2-1ae3-4c48-c442-80742362f308"
      },
      "execution_count": 10,
      "outputs": [
        {
          "output_type": "stream",
          "name": "stdout",
          "text": [
            "Anna     21\n",
            "Bob      20\n",
            "Maria    25\n",
            "Jack     22\n",
            "Name: Age, dtype: int64\n"
          ]
        }
      ]
    },
    {
      "cell_type": "code",
      "source": [
        "# you can change the original Series\n",
        "ages_series.drop(index='Maria', inplace=True)\n",
        "print(ages_series)"
      ],
      "metadata": {
        "colab": {
          "base_uri": "https://localhost:8080/"
        },
        "id": "EPsqlshvrcAY",
        "outputId": "44cd25da-1d32-4c31-f815-631c18c37233"
      },
      "execution_count": 11,
      "outputs": [
        {
          "output_type": "stream",
          "name": "stdout",
          "text": [
            "Anna    21\n",
            "Bob     20\n",
            "Jack    22\n",
            "Name: Age, dtype: int64\n"
          ]
        }
      ]
    },
    {
      "cell_type": "code",
      "source": [
        "# different way to add new items\n",
        "ages_series['Maria'] = 25 \n",
        "print(ages_series)\n",
        "\n",
        "new_recs = pd.Series({'Jon': 34, 'Peter': 23, 'Karo': 45, 'Abby': 25})\n",
        "ages_series = ages_series.append(new_recs)\n",
        "print(ages_series)\n"
      ],
      "metadata": {
        "colab": {
          "base_uri": "https://localhost:8080/"
        },
        "id": "aEDzH_orrhqe",
        "outputId": "ea4a2755-0217-42a9-ec61-8f0be6d44002"
      },
      "execution_count": 12,
      "outputs": [
        {
          "output_type": "stream",
          "name": "stdout",
          "text": [
            "Anna     21\n",
            "Bob      20\n",
            "Jack     22\n",
            "Maria    25\n",
            "Name: Age, dtype: int64\n",
            "Anna     21\n",
            "Bob      20\n",
            "Jack     22\n",
            "Maria    25\n",
            "Jon      34\n",
            "Peter    23\n",
            "Karo     45\n",
            "Abby     25\n",
            "dtype: int64\n"
          ]
        }
      ]
    },
    {
      "cell_type": "markdown",
      "source": [
        "## Operations on Series"
      ],
      "metadata": {
        "id": "GiY61_aUt0nU"
      }
    },
    {
      "cell_type": "code",
      "source": [
        "# when each object has same index\n",
        "algebra = pd.Series({'Bob': 90, 'Anna': 100, 'Maria': 40, 'Jack': 30})\n",
        "calculus = pd.Series({'Anna': 100, 'Bob': 50, 'Jack': 60, 'Maria': 20})\n",
        "\n",
        "average = 0.5 * (algebra + calculus)\n",
        "print(average)"
      ],
      "metadata": {
        "colab": {
          "base_uri": "https://localhost:8080/"
        },
        "id": "6mtr3nSDrymS",
        "outputId": "a8aa3698-28e1-4896-cd06-ca0406daec04"
      },
      "execution_count": 13,
      "outputs": [
        {
          "output_type": "stream",
          "name": "stdout",
          "text": [
            "Anna     100.0\n",
            "Bob       70.0\n",
            "Jack      45.0\n",
            "Maria     30.0\n",
            "dtype: float64\n"
          ]
        }
      ]
    },
    {
      "cell_type": "code",
      "source": [
        "# when some indexes do not exist on the other Series\n",
        "probability = pd.Series({'Bob': 50, 'Anna': 100})\n",
        "\n",
        "average = 0.33 * (algebra + calculus + probability)\n",
        "print(average)"
      ],
      "metadata": {
        "colab": {
          "base_uri": "https://localhost:8080/"
        },
        "id": "PHGOmvKks1dO",
        "outputId": "35fe752c-d8ce-4572-cd72-b35704910a69"
      },
      "execution_count": 15,
      "outputs": [
        {
          "output_type": "stream",
          "name": "stdout",
          "text": [
            "Anna     99.0\n",
            "Bob      62.7\n",
            "Jack      NaN\n",
            "Maria     NaN\n",
            "dtype: float64\n"
          ]
        }
      ]
    }
  ]
}